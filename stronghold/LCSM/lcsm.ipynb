{
 "cells": [
  {
   "cell_type": "code",
   "execution_count": 1,
   "metadata": {},
   "outputs": [],
   "source": [
    "import numpy as np"
   ]
  },
  {
   "attachments": {},
   "cell_type": "markdown",
   "metadata": {},
   "source": [
    "A common substring of a collection of strings is a substring of every member of the collection. We say that a common substring is a longest common substring if there does not exist a longer common substring. For example, \"CG\" is a common substring of \"ACGTACGT\" and \"AACCGTATA\", but it is not as long as possible; in this case, \"CGTA\" is a longest common substring of \"ACGTACGT\" and \"AACCGTATA\".\n",
    "\n",
    "Note that the longest common substring is not necessarily unique; for a simple example, \"AA\" and \"CC\" are both longest common substrings of \"AACC\" and \"CCAA\".\n",
    "\n",
    "Given: A collection of k\n",
    " (k≤100\n",
    ") DNA strings of length at most 1 kbp each in FASTA format.\n",
    "\n",
    "Return: A longest common substring of the collection. (If multiple solutions exist, you may return any single solution.)\n",
    "\n",
    "[LCSM](https://rosalind.info/problems/lcsm/)"
   ]
  },
  {
   "cell_type": "code",
   "execution_count": 56,
   "metadata": {},
   "outputs": [],
   "source": [
    "class PrettyPrinter(object):\n",
    "    def __str__(self):\n",
    "        lines = [self.__class__.__name__ + ':']\n",
    "        for key, val in vars(self).items():\n",
    "            lines += '{}: {}'.format(key, str(val)).split('\\n')\n",
    "        return '\\n    '.join(lines)\n",
    "\n",
    "\n",
    "\n",
    "\n",
    "class PrefixTree(PrettyPrinter):\n",
    "    \n",
    "    class Node(PrettyPrinter):\n",
    "       def __init__(self,bp,substring_index,string_id):\n",
    "          self.base_pair = bp\n",
    "          #[(index, parent_string_id)]\n",
    "          self.substring_index = [(substring_index,string_id)]\n",
    "          #Dict of Nodes\n",
    "          self.children = {}\n",
    "\n",
    "       def add_child(self,child):\n",
    "          self.children[child.base_pair] = child\n",
    "\n",
    "       def ingest_string(self,string,string_id,substring_index):\n",
    "          if len(string) < 2:\n",
    "             self.add_child(Node(string[0],substring_index,string_id))\n",
    "          \n",
    "          else:\n",
    "             child_node = Node(string[0],substring_index,string_id)\n",
    "             self.add_child(child_node)\n",
    "             child_node.ingest_string(string[1:],substring_index+1,string_id)\n",
    "\n",
    "          \n",
    "          \n",
    "    def _ingest_string(self,string,string_id):\n",
    "      if string[0] not in self.root_nodes:\n",
    "\n",
    "        self.root_nodes[string[0]] = self.Node(string[0],0,string_id)\n",
    "\n",
    "\n",
    "      for i in range(1, len(string)):\n",
    "         pass\n",
    "         \n",
    "         \n",
    "      \n",
    "     \n",
    "    \n",
    "    def __init__(self,strings):\n",
    "      self.strings = strings\n",
    "      self.parent_string_ids = {x for x in range(len(strings))}\n",
    "      self.root_nodes = {}\n",
    "      self._ingest_string(strings[0],0)\n",
    "\n",
    "\n",
    "    \n"
   ]
  },
  {
   "cell_type": "code",
   "execution_count": 57,
   "metadata": {},
   "outputs": [
    {
     "name": "stdout",
     "output_type": "stream",
     "text": [
      "PrefixTree:\n",
      "    strings: ['aa', 'ab']\n",
      "    parent_string_ids: {0, 1}\n",
      "    root_nodes: {'a': <__main__.PrefixTree.Node object at 0x7fcf34593880>}\n"
     ]
    }
   ],
   "source": [
    "print(PrefixTree(['aa','ab']))\n"
   ]
  },
  {
   "cell_type": "code",
   "execution_count": null,
   "metadata": {},
   "outputs": [],
   "source": []
  }
 ],
 "metadata": {
  "kernelspec": {
   "display_name": "Python 3",
   "language": "python",
   "name": "python3"
  },
  "language_info": {
   "codemirror_mode": {
    "name": "ipython",
    "version": 3
   },
   "file_extension": ".py",
   "mimetype": "text/x-python",
   "name": "python",
   "nbconvert_exporter": "python",
   "pygments_lexer": "ipython3",
   "version": "3.10.4"
  },
  "orig_nbformat": 4,
  "vscode": {
   "interpreter": {
    "hash": "3ad933181bd8a04b432d3370b9dc3b0662ad032c4dfaa4e4f1596c548f763858"
   }
  }
 },
 "nbformat": 4,
 "nbformat_minor": 2
}
